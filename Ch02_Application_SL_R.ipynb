{
 "cells": [
  {
   "cell_type": "markdown",
   "id": "df9feaf8",
   "metadata": {},
   "source": [
    "# Statistical Learning Application\n",
    "#### aurthor: \n",
    "#### date: \"2022-12-21\""
   ]
  },
  {
   "cell_type": "code",
   "execution_count": 1,
   "id": "f3d5efee",
   "metadata": {
    "attributes": {
     "classes": [],
     "id": "",
     "include": "FALSE"
    }
   },
   "outputs": [],
   "source": [
    "knitr::opts_chunk$set(echo = FALSE,message=FALSE,fig.align=\"center\",fig.width=7,fig.height=2.5)\n",
    "pacman::p_load(\n",
    "       car\n",
    "      , ggplot2\n",
    "      , ggExtra\n",
    "      , reshape2\n",
    "      , corrplot\n",
    "      , RColorBrewer\n",
    "      , lubridate\n",
    "      , AmesHousing\n",
    "      )"
   ]
  },
  {
   "cell_type": "markdown",
   "id": "3850f4be",
   "metadata": {},
   "source": [
    "# Class Workbook {.tabset .tabset-fade .tabset-pills}\n",
    "\n",
    "This is coding portion of your class workbook.  Please go through the sections bewlow\n",
    "## Welcome to MA679\n",
    "\n",
    "Every module of the course will have a GitHub class that contains the chapter lab from your textbook and this application material, like your workbook/homework. You are expected to work on these materials during the class, but what you don't finish will become your homework.  At the end of each class, you must commit your work as proof of your class participation.  \n",
    "\n",
    "***\n",
    "\n",
    "## In class activity\n",
    "### Ames Housing data\n",
    "\n",
    "In our first class, we will look at the Ames Housing data.\n",
    "Please install `AmesHousing` package and look at the raw data."
   ]
  },
  {
   "cell_type": "code",
   "execution_count": 3,
   "id": "d15377f8",
   "metadata": {},
   "outputs": [],
   "source": [
    "library(AmesHousing)\n",
    "?ames_raw"
   ]
  },
  {
   "cell_type": "markdown",
   "id": "91a2816f",
   "metadata": {},
   "source": [
    "The outcome variable of interest is `SalePrice` and you have a lot of features for each home. \n",
    "\n",
    "A sample of them include\n",
    "\n",
    "- `Year Built`: Original construction date\n",
    "- `Lot Frontage`: Linear feet of street connected to the property\n",
    "- `Lot Area`: Lot size in square feet\n",
    "- `Neighborhood`: Physical locations within Ames city limits (map available)\n",
    "- `Overall Qual`: Rates the overall material and finish of the house\n",
    "- `Overall Cond`: Rates the overall condition of the house\n",
    "- `Total Bsmt SF`: Total square feet of the basement area\n",
    "- `1st Flr SF`: First Floor square feet\n",
    "- `2nd Flr SF`: Second floor square feet\n",
    "- `Gr Liv Area`: Above grade (ground) living area square feet\n",
    "- `Bedroom`: Bedrooms above grade (does NOT include basement bedrooms)\n",
    "- `Kitchen`: Kitchens above grade\n",
    "- `KitchenQual`: Kitchen quality\n",
    "- `TotRmsAbvGrd`: Total rooms above grade (does not include bathrooms)\n",
    "- `Bsmt Full Bath`: Basement full bathrooms\n",
    "- `Bsmt Half Bath`: Basement half bathrooms\n",
    "- `Full Bath`: Full bathrooms above grade\n",
    "- `Half Bath`: Half baths above grade, etc.\n",
    "\n",
    "### Questions\n",
    "\n",
    "- How many observations and features do you have in the data?\n",
    "\n",
    "Your code:"
   ]
  },
  {
   "cell_type": "code",
   "execution_count": null,
   "id": "3b435b8d",
   "metadata": {
    "attributes": {
     "classes": [],
     "id": "",
     "r,echo": "TRUE"
    }
   },
   "outputs": [],
   "source": [
    "#\n",
    "#"
   ]
  },
  {
   "cell_type": "markdown",
   "id": "5016545a",
   "metadata": {},
   "source": [
    "Your answer:"
   ]
  },
  {
   "cell_type": "code",
   "execution_count": null,
   "id": "c4294b48",
   "metadata": {},
   "outputs": [],
   "source": [
    "Please write your answer in full sentences.\n",
    "\n"
   ]
  },
  {
   "cell_type": "markdown",
   "id": "48727754",
   "metadata": {},
   "source": [
    "- Please make some EDA figures to explore some of the most likely features associated with `SalePrice`.\n",
    "\n",
    "Your code:"
   ]
  },
  {
   "cell_type": "code",
   "execution_count": null,
   "id": "da611af6",
   "metadata": {
    "attributes": {
     "classes": [],
     "id": "",
     "r,echo": "TRUE"
    }
   },
   "outputs": [],
   "source": [
    "#\n",
    "#"
   ]
  },
  {
   "cell_type": "markdown",
   "id": "7c5c812d",
   "metadata": {},
   "source": [
    "Your answer:"
   ]
  },
  {
   "cell_type": "code",
   "execution_count": null,
   "id": "25ea1744",
   "metadata": {},
   "outputs": [],
   "source": [
    "Please write your answer in full sentences.\n",
    "\n"
   ]
  },
  {
   "cell_type": "markdown",
   "id": "f914ffe6",
   "metadata": {},
   "source": [
    "- Are there any structures in the data?  Obvious correlations to be aware of?\n",
    "\n",
    "Your code:"
   ]
  },
  {
   "cell_type": "code",
   "execution_count": null,
   "id": "4d900c24",
   "metadata": {
    "attributes": {
     "classes": [],
     "id": "",
     "r,echo": "TRUE"
    }
   },
   "outputs": [],
   "source": [
    "#\n",
    "#"
   ]
  },
  {
   "cell_type": "markdown",
   "id": "bf064856",
   "metadata": {},
   "source": [
    "Your answer:"
   ]
  },
  {
   "cell_type": "code",
   "execution_count": null,
   "id": "e50aebc2",
   "metadata": {},
   "outputs": [],
   "source": [
    "Please write your answer in full sentences.\n",
    "\n"
   ]
  },
  {
   "cell_type": "markdown",
   "id": "ff5bcb12",
   "metadata": {},
   "source": [
    "***\n",
    "\n",
    "## Problem Set\n",
    "\n",
    "### [Required] Auto Data\n",
    "\n",
    "This exercise involves the `Auto` data set studied in the lab. Make sure that the missing values have been removed from the data.\n",
    "\n",
    "(a) Which of the predictors are quantitative, and which are qualitative?\n",
    "\n",
    "Your code:"
   ]
  },
  {
   "cell_type": "code",
   "execution_count": null,
   "id": "cdbdb0ec",
   "metadata": {
    "attributes": {
     "classes": [],
     "id": "",
     "r,echo": "TRUE"
    }
   },
   "outputs": [],
   "source": [
    "#\n",
    "#"
   ]
  },
  {
   "cell_type": "markdown",
   "id": "6be07d9b",
   "metadata": {},
   "source": [
    "Your answer:"
   ]
  },
  {
   "cell_type": "code",
   "execution_count": null,
   "id": "a624e4ab",
   "metadata": {},
   "outputs": [],
   "source": [
    "Please write your answer in full sentences.\n",
    "\n"
   ]
  },
  {
   "cell_type": "markdown",
   "id": "2a140950",
   "metadata": {},
   "source": [
    "(b) What is the range of each quantitative predictor? You can answer this using the range() function. range()\n",
    "\n",
    "Your code:"
   ]
  },
  {
   "cell_type": "code",
   "execution_count": null,
   "id": "3e10bab5",
   "metadata": {
    "attributes": {
     "classes": [],
     "id": "",
     "r,echo": "TRUE"
    }
   },
   "outputs": [],
   "source": [
    "#\n",
    "#"
   ]
  },
  {
   "cell_type": "markdown",
   "id": "d82a58f6",
   "metadata": {},
   "source": [
    "Your answer:"
   ]
  },
  {
   "cell_type": "code",
   "execution_count": null,
   "id": "8bfcacfa",
   "metadata": {},
   "outputs": [],
   "source": [
    "Please write your answer in full sentences.\n",
    "\n"
   ]
  },
  {
   "cell_type": "markdown",
   "id": "f37db68d",
   "metadata": {},
   "source": [
    "(c) What is the mean and standard deviation of each quantitative predictor?\n",
    "\n",
    "Your code:"
   ]
  },
  {
   "cell_type": "code",
   "execution_count": null,
   "id": "d7c79dc5",
   "metadata": {
    "attributes": {
     "classes": [],
     "id": "",
     "r,echo": "TRUE"
    }
   },
   "outputs": [],
   "source": [
    "#\n",
    "#"
   ]
  },
  {
   "cell_type": "markdown",
   "id": "c925469a",
   "metadata": {},
   "source": [
    "Your answer:"
   ]
  },
  {
   "cell_type": "code",
   "execution_count": null,
   "id": "80eed47b",
   "metadata": {},
   "outputs": [],
   "source": [
    "Please write your answer in full sentences.\n",
    "\n"
   ]
  },
  {
   "cell_type": "markdown",
   "id": "ef88e535",
   "metadata": {},
   "source": [
    "(d) Now remove the 10th through 85th observations. What is the range, mean, and standard deviation of each predictor in the subset of the data that remains?\n",
    "\n",
    "Your code:"
   ]
  },
  {
   "cell_type": "code",
   "execution_count": null,
   "id": "1d228014",
   "metadata": {
    "attributes": {
     "classes": [],
     "id": "",
     "r,echo": "TRUE"
    }
   },
   "outputs": [],
   "source": [
    "#\n",
    "#"
   ]
  },
  {
   "cell_type": "markdown",
   "id": "02092e8e",
   "metadata": {},
   "source": [
    "Your answer:"
   ]
  },
  {
   "cell_type": "code",
   "execution_count": null,
   "id": "58f3ad67",
   "metadata": {},
   "outputs": [],
   "source": [
    "Please write your answer in full sentences.\n",
    "\n"
   ]
  },
  {
   "cell_type": "markdown",
   "id": "2aa22b7a",
   "metadata": {},
   "source": [
    "(e) Using the full data set, investigate the predictors graphically, using scatterplots or other tools of your choice. Create some plots highlighting the relationships among the predictors. Comment\n",
    "on your findings.\n",
    "\n",
    "Your code:"
   ]
  },
  {
   "cell_type": "code",
   "execution_count": null,
   "id": "ceb56abb",
   "metadata": {
    "attributes": {
     "classes": [],
     "id": "",
     "r,echo": "TRUE"
    }
   },
   "outputs": [],
   "source": [
    "#\n",
    "#"
   ]
  },
  {
   "cell_type": "markdown",
   "id": "503964f1",
   "metadata": {},
   "source": [
    "Your answer:"
   ]
  },
  {
   "cell_type": "code",
   "execution_count": null,
   "id": "9b845add",
   "metadata": {},
   "outputs": [],
   "source": [
    "Please write your answer in full sentences.\n",
    "\n"
   ]
  },
  {
   "cell_type": "markdown",
   "id": "1a5e7678",
   "metadata": {},
   "source": [
    "(f) Suppose that we wish to predict gas mileage (mpg) based on the other variables. Do your plots suggest that any other variables might be helpful in predicting mpg? Justify your answer.\n",
    "\n",
    "Your code:"
   ]
  },
  {
   "cell_type": "code",
   "execution_count": null,
   "id": "cd8be652",
   "metadata": {
    "attributes": {
     "classes": [],
     "id": "",
     "r,echo": "TRUE"
    }
   },
   "outputs": [],
   "source": [
    "#\n",
    "#"
   ]
  },
  {
   "cell_type": "markdown",
   "id": "8cb50165",
   "metadata": {},
   "source": [
    "Your answer:"
   ]
  },
  {
   "cell_type": "code",
   "execution_count": null,
   "id": "05898bc3",
   "metadata": {},
   "outputs": [],
   "source": [
    "Please write your answer in full sentences.\n",
    "\n"
   ]
  },
  {
   "cell_type": "markdown",
   "id": "e1352125",
   "metadata": {},
   "source": [
    "### [Optional] College Data\n",
    "\n",
    "This exercise relates to the `College` data set, found in the file College.csv on the book website. It contains several variables for 777 different universities and colleges in the US. The\n",
    "variables are\n",
    "\n",
    "- `Private` : Public/private indicator\n",
    "- `Apps` : Number of applications received\n",
    "- `Accept` : Number of applicants accepted\n",
    "- `Enroll` : Number of new students enrolled\n",
    "- `Top10perc` : New students from the top 10% of high school class\n",
    "- `Top25perc` : New students from the top 25% of high school class\n",
    "- `F.Undergrad` : Number of full-time undergraduates\n",
    "- `P.Undergrad` : Number of part-time undergraduates\n",
    "- `Outstate` : Out-of-state tuition\n",
    "- `Room.Board` : Room and board costs\n",
    "- `Books` : Estimated book costs\n",
    "- `Personal` : Estimated personal spending\n",
    "- `PhD` : Percent of faculty with Ph.D.’s\n",
    "- `Terminal` : Percent of faculty with a terminal degree\n",
    "- `S.F.Ratio` : Student/faculty ratio\n",
    "- `perc.alumni` : Percent of alumni who donate\n",
    "- `Expend` : Instructional expenditure per student\n",
    "- `Grad.Rate` : Graduation rate\n",
    "\n",
    "Before reading the data into R, it can be viewed in Excel or a text editor.\n",
    "\n",
    "(a) Use the `read.csv()` function to read the data into R. Call the loaded data college. Make sure you have the directory set to the correct location for the data.\n",
    "\n",
    "Your code:"
   ]
  },
  {
   "cell_type": "code",
   "execution_count": null,
   "id": "053122e3",
   "metadata": {
    "attributes": {
     "classes": [],
     "id": "",
     "r,echo": "TRUE"
    }
   },
   "outputs": [],
   "source": [
    "#\n",
    "#"
   ]
  },
  {
   "cell_type": "markdown",
   "id": "8dc13a03",
   "metadata": {},
   "source": [
    "Your answer:"
   ]
  },
  {
   "cell_type": "code",
   "execution_count": null,
   "id": "a67b30f7",
   "metadata": {},
   "outputs": [],
   "source": [
    "Please write your answer in full sentences.\n",
    "\n"
   ]
  },
  {
   "cell_type": "markdown",
   "id": "c5018e9d",
   "metadata": {},
   "source": [
    "(b) Look at the data using the `View()` function. You should notice that the first column is just the name of each university. We don’t want R to treat this as data. However, it may be handy to have these names for later. Try the following commands:"
   ]
  },
  {
   "cell_type": "code",
   "execution_count": null,
   "id": "b83343ab",
   "metadata": {
    "attributes": {
     "classes": [],
     "id": "",
     "r,eval": "FALSE"
    }
   },
   "outputs": [],
   "source": [
    "> rownames(college) <- college[, 1]\n",
    "> View(college)"
   ]
  },
  {
   "cell_type": "code",
   "execution_count": null,
   "id": "f3fa0b79",
   "metadata": {},
   "outputs": [],
   "source": [
    "You should see that there is now a row.names column with the name of each university recorded. This means that R has given each row a name corresponding to the appropriate     university. R will not try to perform calculations on the row names. However, we still need to eliminate the first column in the data where the names are stored. Try"
   ]
  },
  {
   "cell_type": "code",
   "execution_count": null,
   "id": "2538fce3",
   "metadata": {
    "attributes": {
     "classes": [],
     "id": "",
     "r,eval": "FALSE"
    }
   },
   "outputs": [],
   "source": [
    "> college <- college[, -1]\n",
    "> View(college)"
   ]
  },
  {
   "cell_type": "markdown",
   "id": "521531f1",
   "metadata": {},
   "source": [
    "Now you should see that the first data column is Private. Note that another column labeled row.names now appears before the Private column. However, this is not a data column the name that R is giving to each row.\n",
    "\n",
    "Your code:"
   ]
  },
  {
   "cell_type": "code",
   "execution_count": null,
   "id": "7555b0d2",
   "metadata": {
    "attributes": {
     "classes": [],
     "id": "",
     "r,echo": "TRUE"
    }
   },
   "outputs": [],
   "source": [
    "#\n",
    "#"
   ]
  },
  {
   "cell_type": "markdown",
   "id": "1242d598",
   "metadata": {},
   "source": [
    "Your answer:"
   ]
  },
  {
   "cell_type": "code",
   "execution_count": null,
   "id": "d067c4a3",
   "metadata": {},
   "outputs": [],
   "source": [
    "Please write your answer in full sentences.\n",
    "\n"
   ]
  },
  {
   "cell_type": "markdown",
   "id": "57c9de39",
   "metadata": {},
   "source": [
    "(c) \n",
    "  i. Use the summary() function to produce a numerical summary of the variables in the data set.\n",
    "\n",
    "Your code:"
   ]
  },
  {
   "cell_type": "code",
   "execution_count": null,
   "id": "a3b4ccdf",
   "metadata": {
    "attributes": {
     "classes": [],
     "id": "",
     "r,echo": "TRUE"
    }
   },
   "outputs": [],
   "source": [
    "#\n",
    "#"
   ]
  },
  {
   "cell_type": "markdown",
   "id": "59b6893f",
   "metadata": {},
   "source": [
    "Your answer:"
   ]
  },
  {
   "cell_type": "code",
   "execution_count": null,
   "id": "972dd5a6",
   "metadata": {},
   "outputs": [],
   "source": [
    "Please write your answer in full sentences.\n",
    "\n"
   ]
  },
  {
   "cell_type": "markdown",
   "id": "95e0c4ea",
   "metadata": {},
   "source": [
    "ii. Use the pairs() function to produce a scatterplot matrix of the first ten columns or variables of the data. Recall that you can reference the first ten columns of a matrix A using\n",
    "`A[,1:10]`.\n",
    "\n",
    "Your code:"
   ]
  },
  {
   "cell_type": "code",
   "execution_count": null,
   "id": "9e96f18c",
   "metadata": {
    "attributes": {
     "classes": [],
     "id": "",
     "r,echo": "TRUE"
    }
   },
   "outputs": [],
   "source": [
    "#\n",
    "#"
   ]
  },
  {
   "cell_type": "markdown",
   "id": "6c0c04ce",
   "metadata": {},
   "source": [
    "Your answer:"
   ]
  },
  {
   "cell_type": "code",
   "execution_count": null,
   "id": "bf3c8e88",
   "metadata": {},
   "outputs": [],
   "source": [
    "Please write your answer in full sentences.\n",
    "\n"
   ]
  },
  {
   "cell_type": "markdown",
   "id": "2b449b05",
   "metadata": {},
   "source": [
    "iii. Use the plot() function to produce side-by-side boxplots of Outstate versus Private.\n",
    "\n",
    "Your code:"
   ]
  },
  {
   "cell_type": "code",
   "execution_count": null,
   "id": "61d65894",
   "metadata": {
    "attributes": {
     "classes": [],
     "id": "",
     "r,echo": "TRUE"
    }
   },
   "outputs": [],
   "source": [
    "#\n",
    "#"
   ]
  },
  {
   "cell_type": "markdown",
   "id": "713043c5",
   "metadata": {},
   "source": [
    "Your answer:"
   ]
  },
  {
   "cell_type": "code",
   "execution_count": null,
   "id": "bafafbe2",
   "metadata": {},
   "outputs": [],
   "source": [
    "Please write your answer in full sentences.\n",
    "\n"
   ]
  },
  {
   "cell_type": "markdown",
   "id": "212f252d",
   "metadata": {},
   "source": [
    "iv. Create a new qualitative variable, called Elite, by binning the Top10perc variable. We will divide universities into two groups based on whether or not the proportion of students coming from the top 10% of their high school classes exceeds 50%."
   ]
  },
  {
   "cell_type": "code",
   "execution_count": null,
   "id": "9c66839e",
   "metadata": {
    "attributes": {
     "classes": [],
     "id": "",
     "r,eval": "FALSE"
    }
   },
   "outputs": [],
   "source": [
    "> Elite <- rep(\"No\", nrow(college))\n",
    "> Elite[college$Top10perc > 50] <- \"Yes\"\n",
    "> Elite <- as.factor(Elite)\n",
    "> college <- data.frame(college , Elite)"
   ]
  },
  {
   "cell_type": "markdown",
   "id": "f3e75072",
   "metadata": {},
   "source": [
    "Use the `summary()` function to see how many elite universities there are. Now use the `plot()` function to produce side-by-side boxplots of Outstate versus Elite.\n",
    "\n",
    "Your code:"
   ]
  },
  {
   "cell_type": "code",
   "execution_count": null,
   "id": "5df67d71",
   "metadata": {
    "attributes": {
     "classes": [],
     "id": "",
     "r,echo": "TRUE"
    }
   },
   "outputs": [],
   "source": [
    "#\n",
    "#"
   ]
  },
  {
   "cell_type": "markdown",
   "id": "d715279d",
   "metadata": {},
   "source": [
    "Your answer:"
   ]
  },
  {
   "cell_type": "code",
   "execution_count": null,
   "id": "9d558151",
   "metadata": {},
   "outputs": [],
   "source": [
    "Please write your answer in full sentences.\n",
    "\n"
   ]
  },
  {
   "cell_type": "markdown",
   "id": "ebe715bf",
   "metadata": {},
   "source": [
    "v. Use the hist() function to produce some histograms with differing numbers of bins for a few of the quantitative variables. You may find the command `par(mfrow = c(2, 2))` \n",
    "useful: it will divide the print window into four regions so that four plots can be made simultaneously. Modifying the arguments to this function will divide the screen in other ways.\n",
    "\n",
    "Your code:"
   ]
  },
  {
   "cell_type": "code",
   "execution_count": null,
   "id": "e674893d",
   "metadata": {
    "attributes": {
     "classes": [],
     "id": "",
     "r,echo": "TRUE"
    }
   },
   "outputs": [],
   "source": [
    "#\n",
    "#"
   ]
  },
  {
   "cell_type": "markdown",
   "id": "d8d0fac6",
   "metadata": {},
   "source": [
    "Your answer:"
   ]
  },
  {
   "cell_type": "code",
   "execution_count": null,
   "id": "02661ba3",
   "metadata": {},
   "outputs": [],
   "source": [
    "Please write your answer in full sentences.\n",
    "\n"
   ]
  },
  {
   "cell_type": "markdown",
   "id": "e16d4f98",
   "metadata": {},
   "source": [
    "vi. Continue exploring the data, and provide a summary of what you discover.\n",
    "\n",
    "Your code:"
   ]
  },
  {
   "cell_type": "code",
   "execution_count": null,
   "id": "ec9873fd",
   "metadata": {
    "attributes": {
     "classes": [],
     "id": "",
     "r,echo": "TRUE"
    }
   },
   "outputs": [],
   "source": [
    "#\n",
    "#"
   ]
  },
  {
   "cell_type": "markdown",
   "id": "a31d26a5",
   "metadata": {},
   "source": [
    "Your answer:"
   ]
  },
  {
   "cell_type": "code",
   "execution_count": null,
   "id": "199348b5",
   "metadata": {},
   "outputs": [],
   "source": [
    "Please write your answer in full sentences.\n",
    "\n"
   ]
  }
 ],
 "metadata": {
  "kernelspec": {
   "display_name": "R",
   "language": "R",
   "name": "ir"
  },
  "language_info": {
   "codemirror_mode": "r",
   "file_extension": ".r",
   "mimetype": "text/x-r-source",
   "name": "R",
   "pygments_lexer": "r",
   "version": "4.2.1"
  }
 },
 "nbformat": 4,
 "nbformat_minor": 5
}
